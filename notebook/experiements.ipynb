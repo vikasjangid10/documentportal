{
 "cells": [
  {
   "cell_type": "code",
   "execution_count": 1,
   "id": "98e3ea02",
   "metadata": {},
   "outputs": [
    {
     "name": "stdout",
     "output_type": "stream",
     "text": [
      "all ok\n"
     ]
    }
   ],
   "source": [
    "print(\"all ok\")"
   ]
  },
  {
   "cell_type": "code",
   "execution_count": 3,
   "id": "7db0cc5a",
   "metadata": {},
   "outputs": [],
   "source": [
    "from dotenv import load_dotenv"
   ]
  },
  {
   "cell_type": "code",
   "execution_count": 5,
   "id": "fd9fd1d3",
   "metadata": {},
   "outputs": [
    {
     "data": {
      "text/plain": [
       "True"
      ]
     },
     "execution_count": 5,
     "metadata": {},
     "output_type": "execute_result"
    }
   ],
   "source": [
    "load_dotenv()"
   ]
  },
  {
   "cell_type": "code",
   "execution_count": 6,
   "id": "d9c2468d",
   "metadata": {},
   "outputs": [],
   "source": [
    "from langchain_groq import ChatGroq"
   ]
  },
  {
   "cell_type": "code",
   "execution_count": 10,
   "id": "7a530021",
   "metadata": {},
   "outputs": [],
   "source": [
    "model = ChatGroq(model=\"qwen/qwen3-32b\")"
   ]
  },
  {
   "cell_type": "code",
   "execution_count": 14,
   "id": "b22a5093",
   "metadata": {},
   "outputs": [
    {
     "data": {
      "text/plain": [
       "\"<think>\\nOkay, so I need to figure out what the capital of India is. Hmm, I remember that India is a country in South Asia, right? But I'm not exactly sure about the capital. Let me think. I know that India has a large population and is a democracy. I think the capital might be New Delhi. Wait, is it New Delhi or Delhi? Sometimes cities have different names or parts that are considered the capital. Let me recall. I remember that Delhi is a city in northern India, and New Delhi is a part of it. I think the government buildings and the parliament are in New Delhi. So maybe the capital is New Delhi. But sometimes people refer to Delhi as the capital, but technically, it might be New Delhi because that's where the official government offices are located. Also, I think there was a time when the capital was Calcutta, but that was before independence. After independence, they shifted the capital to Delhi. Wait, was it Delhi or New Delhi? I'm a bit confused here. Maybe I should check if there's a distinction between Delhi and New Delhi. I think Delhi is the city, and New Delhi is the area within Delhi that serves as the capital. So the capital city is Delhi, but the actual capital area is New Delhi. But I'm not entirely sure. Let me see if I can remember any other clues. The Indian Prime Minister's residence is in New Delhi, right? And the President's house is there too. So that must be where the capital is. Also, the International Cricket Stadium in Delhi is in a different part, so maybe that's the city, but the capital is New Delhi. So putting it all together, the capital of India is New Delhi, which is a part of the city of Delhi. Yeah, that makes sense. I think that's the right answer.\\n</think>\\n\\nThe capital of India is **New Delhi**. It is a part of the larger city of Delhi, officially known as **Delhi** (which serves as the capital territory). New Delhi functions as the administrative and political center of the country, housing key government institutions such as the **President's House**, **Parliament House**, and the **Prime Minister's Office**. \\n\\nDelhi, as a union territory, includes both **Old Delhi** (historical areas) and **New Delhi** (the planned capital established in the early 20th century). While the British colonial capital was **Calcutta (now Kolkata)**, it was shifted to Delhi in 1911, with New Delhi being specifically designed as the new capital of British India. After India's independence in 1947, New Delhi remained the capital of the Republic of India. \\n\\n**Summary:**  \\n- **Capital of India:** New Delhi  \\n- **Part of:** Delhi Union Territory  \\n- **Key Institutions:** Rajpath, Parliament, President's House, etc.  \\n\\nLet me know if you'd like additional details! 😊\""
      ]
     },
     "execution_count": 14,
     "metadata": {},
     "output_type": "execute_result"
    }
   ],
   "source": [
    "model.invoke(\"what is the capital of india\").content"
   ]
  },
  {
   "cell_type": "code",
   "execution_count": null,
   "id": "b634c0d2",
   "metadata": {},
   "outputs": [],
   "source": []
  }
 ],
 "metadata": {
  "kernelspec": {
   "display_name": "Python 3",
   "language": "python",
   "name": "python3"
  },
  "language_info": {
   "codemirror_mode": {
    "name": "ipython",
    "version": 3
   },
   "file_extension": ".py",
   "mimetype": "text/x-python",
   "name": "python",
   "nbconvert_exporter": "python",
   "pygments_lexer": "ipython3",
   "version": "3.10.0"
  }
 },
 "nbformat": 4,
 "nbformat_minor": 5
}
